{
  "cells": [
    {
      "cell_type": "markdown",
      "metadata": {
        "id": "view-in-github",
        "colab_type": "text"
      },
      "source": [
        "<a href=\"https://colab.research.google.com/github/kknippenberg11/CPHC-intro-numpy/blob/main/why.ipynb\" target=\"_parent\"><img src=\"https://colab.research.google.com/assets/colab-badge.svg\" alt=\"Open In Colab\"/></a>"
      ]
    },
    {
      "cell_type": "markdown",
      "metadata": {
        "id": "PGj7sqIYwx6M"
      },
      "source": [
        "# Why Numpy?"
      ]
    },
    {
      "cell_type": "markdown",
      "metadata": {
        "id": "eY1B4D_twx6O"
      },
      "source": [
        "### Limitations of Traditional Python **(in Scientific Applications)**"
      ]
    },
    {
      "cell_type": "markdown",
      "metadata": {
        "id": "J9ZyMp4-wx6O"
      },
      "source": [
        "* Python's list can contain objects of diffferent types\n",
        "  * e.g.: a = [1,'2',3.0,1+3j,[4,5],{'UT':'SLC'}]\n",
        "  * <font color=\"green\"><b>Pro</b></font>: Very flexible\n",
        "  * <font color=\"red\"><b>Con</b></font>: Slow\n",
        "* In scientific applications, we mostly need <b><font color=\"blue\">homogeneous</font></b> arrays (e.g. ALL int, float, double,complex, str)<br>\n",
        "  * double x[20]     \n",
        "  * double precison, dimension(20) :: x  \n",
        "* CPython is <b><font color=\"red\">single-threaded</font></b> due to its <b><font color=\"red\">Global Interpretor Lock (GIL)</font></b><br>\n",
        "  https://wiki.python.org/moin/GlobalInterpreterLock\n",
        "  * <b><font color=\"green\">Increasing</font></b> #cores/CPU but <b><font color=\"red\">decreasing</font></b> clock rates\n",
        "  * => multi-threading becomes a conditio sine qua non"
      ]
    },
    {
      "cell_type": "markdown",
      "metadata": {
        "id": "IHTfgKtXwx6P"
      },
      "source": [
        "### What is NumPy?"
      ]
    },
    {
      "cell_type": "markdown",
      "metadata": {
        "id": "OebMR78Ewx6P"
      },
      "source": [
        "* started in 2006 (based on previous packages numeric & numarray)\n",
        "* provides:\n",
        "  1. An array object <font color=\"green\"><b>(ndarray)</b></font> over arbitrary items of the <font color=\"green\"><b>same</b></font> type (ie, we don't have to check the types or know the types).\n",
        "  2. Fast mathematical operations over arrays\n",
        "  3. Linear Algebra, Fourier Transforms, Random Number Generation\n",
        "* can run in a <font color=\"green\"><b>multi-threaded</b></font> fashion by relying on C/Fortran libraries<br>\n",
        "  such as BLAS/LAPACK (MKL, OpenBlas,..), Pseudo random number generators (PRNGs) in C/C++.\n",
        "* forms the corner stone of a lot of (python based) scientific packages, such as:\n",
        "  * scipy: fundamental library for scientific computing\n",
        "  * matplotlib: 2D plotting\n",
        "  * pandas: data structures & analysis\n",
        "  * dask: parallel scaling module\n",
        "  * scikit-learn: supervised machine learning\n",
        "  * scikit-image: image processing in python\n",
        "  * ..."
      ]
    },
    {
      "cell_type": "markdown",
      "metadata": {
        "id": "Nmc-zr75wx6P"
      },
      "source": [
        "#### Further Reading (Advanced)"
      ]
    },
    {
      "cell_type": "markdown",
      "metadata": {
        "id": "ddwZD6b1wx6Q"
      },
      "source": [
        "<a href=\"http://conference.scipy.org/proceedings/scipy2018/pdfs/anton_malakhov.pdf\">\n",
        "    Composable Multi-Threading and Multi-Processing for Numeric Libraries (by Anton Malakhov et al. (Intel))</a>"
      ]
    },
    {
      "cell_type": "markdown",
      "metadata": {
        "id": "pieEvJpOwx6Q"
      },
      "source": [
        "### How to invoke numpy?"
      ]
    },
    {
      "cell_type": "code",
      "source": [
        "!git clone https://github.com/kknippenberg11/CPHC-intro-numpy"
      ],
      "metadata": {
        "colab": {
          "base_uri": "https://localhost:8080/"
        },
        "id": "P5MDPyZu6k7B",
        "outputId": "bee7c54c-618e-4a18-a2f0-e64b95b2dcd4"
      },
      "execution_count": null,
      "outputs": [
        {
          "output_type": "stream",
          "name": "stdout",
          "text": [
            "Cloning into 'CPHC-intro-numpy'...\n",
            "remote: Enumerating objects: 68, done.\u001b[K\n",
            "remote: Counting objects: 100% (68/68), done.\u001b[K\n",
            "remote: Compressing objects: 100% (58/58), done.\u001b[K\n",
            "remote: Total 68 (delta 16), reused 49 (delta 9), pack-reused 0 (from 0)\u001b[K\n",
            "Receiving objects: 100% (68/68), 3.36 MiB | 9.93 MiB/s, done.\n",
            "Resolving deltas: 100% (16/16), done.\n"
          ]
        }
      ]
    },
    {
      "cell_type": "code",
      "execution_count": null,
      "metadata": {
        "id": "N6znZAFNwx6Q",
        "colab": {
          "base_uri": "https://localhost:8080/"
        },
        "outputId": "7d138a1e-7fcf-4b9d-c3b6-98fe1e879c1d"
      },
      "outputs": [
        {
          "output_type": "stream",
          "name": "stdout",
          "text": [
            "Numpy Version:1.26.4\n",
            "Build Dependencies:\n",
            "  blas:\n",
            "    detection method: pkgconfig\n",
            "    found: true\n",
            "    include directory: /usr/local/include\n",
            "    lib directory: /usr/local/lib\n",
            "    name: openblas64\n",
            "    openblas configuration: USE_64BITINT=1 DYNAMIC_ARCH=1 DYNAMIC_OLDER= NO_CBLAS=\n",
            "      NO_LAPACK= NO_LAPACKE= NO_AFFINITY=1 USE_OPENMP= HASWELL MAX_THREADS=2\n",
            "    pc file directory: /usr/local/lib/pkgconfig\n",
            "    version: 0.3.23.dev\n",
            "  lapack:\n",
            "    detection method: internal\n",
            "    found: true\n",
            "    include directory: unknown\n",
            "    lib directory: unknown\n",
            "    name: dep139863411681952\n",
            "    openblas configuration: unknown\n",
            "    pc file directory: unknown\n",
            "    version: 1.26.4\n",
            "Compilers:\n",
            "  c:\n",
            "    args: -fno-strict-aliasing\n",
            "    commands: cc\n",
            "    linker: ld.bfd\n",
            "    linker args: -Wl,--strip-debug, -fno-strict-aliasing\n",
            "    name: gcc\n",
            "    version: 10.2.1\n",
            "  c++:\n",
            "    commands: c++\n",
            "    linker: ld.bfd\n",
            "    linker args: -Wl,--strip-debug\n",
            "    name: gcc\n",
            "    version: 10.2.1\n",
            "  cython:\n",
            "    commands: cython\n",
            "    linker: cython\n",
            "    name: cython\n",
            "    version: 3.0.8\n",
            "Machine Information:\n",
            "  build:\n",
            "    cpu: x86_64\n",
            "    endian: little\n",
            "    family: x86_64\n",
            "    system: linux\n",
            "  host:\n",
            "    cpu: x86_64\n",
            "    endian: little\n",
            "    family: x86_64\n",
            "    system: linux\n",
            "Python Information:\n",
            "  path: /opt/python/cp310-cp310/bin/python\n",
            "  version: '3.10'\n",
            "SIMD Extensions:\n",
            "  baseline:\n",
            "  - SSE\n",
            "  - SSE2\n",
            "  - SSE3\n",
            "  found:\n",
            "  - SSSE3\n",
            "  - SSE41\n",
            "  - POPCNT\n",
            "  - SSE42\n",
            "  - AVX\n",
            "  - F16C\n",
            "  - FMA3\n",
            "  - AVX2\n",
            "  not found:\n",
            "  - AVX512F\n",
            "  - AVX512CD\n",
            "  - AVX512_KNL\n",
            "  - AVX512_KNM\n",
            "  - AVX512_SKX\n",
            "  - AVX512_CLX\n",
            "  - AVX512_CNL\n",
            "  - AVX512_ICL\n",
            "\n",
            "'None'\n"
          ]
        }
      ],
      "source": [
        "import numpy as np\n",
        "import pprint\n",
        "print(f\"Numpy Version:{np.__version__}\")\n",
        "pprint.pprint(f\"{np.show_config()}\")"
      ]
    },
    {
      "cell_type": "markdown",
      "metadata": {
        "id": "0sJ6E-2twx6Q"
      },
      "source": [
        "### Simple test/comparison with standard Python"
      ]
    },
    {
      "cell_type": "code",
      "execution_count": null,
      "metadata": {
        "id": "b0gRoBfBwx6R"
      },
      "outputs": [],
      "source": [
        "SZ=10000"
      ]
    },
    {
      "cell_type": "code",
      "execution_count": null,
      "metadata": {
        "id": "JVih_BSywx6R",
        "colab": {
          "base_uri": "https://localhost:8080/"
        },
        "outputId": "2a541382-cb7e-4fd1-fde1-ce1cfe589815"
      },
      "outputs": [
        {
          "output_type": "stream",
          "name": "stdout",
          "text": [
            "3.1 ms ± 73.9 µs per loop (mean ± std. dev. of 7 runs, 100 loops each)\n"
          ]
        }
      ],
      "source": [
        "%timeit [item**2 for item in range(SZ)]"
      ]
    },
    {
      "cell_type": "code",
      "execution_count": null,
      "metadata": {
        "id": "TyijnBoTwx6R",
        "colab": {
          "base_uri": "https://localhost:8080/"
        },
        "outputId": "c507c894-8a0a-4cc0-b5eb-14a3e04c6e46"
      },
      "outputs": [
        {
          "output_type": "stream",
          "name": "stdout",
          "text": [
            "13.5 µs ± 2.37 µs per loop (mean ± std. dev. of 7 runs, 100000 loops each)\n"
          ]
        }
      ],
      "source": [
        "%timeit np.arange(SZ)**2"
      ]
    },
    {
      "cell_type": "markdown",
      "metadata": {
        "id": "Go6Jc__Lwx6R"
      },
      "source": [
        "### Documentation/Help"
      ]
    },
    {
      "cell_type": "markdown",
      "metadata": {
        "id": "gIeNf_XWwx6R"
      },
      "source": [
        "* http://www.numpy.org/\n",
        "* <a href=\"https://www.enthought.com/wp-content/uploads/Enthought-MATLAB-to-Python-White-Paper.pdf\">MATLAB to Python - A Migration Guide (Enthought)</a>\n",
        "* <a href=\"https://www.scipy.org/scipylib/mailing-lists.html\">Numpy Mailing lists</a>  \n",
        "* <a href=\"https://stackoverflow.com/\">Stack Overflow</a>  \n",
        "* Directly within Numpy/Jupyter:\n",
        "  * using TAB & ?\n",
        "  * help(<name>) e.g. help(np.equal)\n",
        "  * np.info()  # Info on object (including ufuncs)\n",
        "* <a href=\"https://github.com/numpy/numpy\">Numpy Source Code</a> (Github)  "
      ]
    }
  ],
  "metadata": {
    "kernelspec": {
      "display_name": "Python 3 (ipykernel)",
      "language": "python",
      "name": "python3"
    },
    "language_info": {
      "codemirror_mode": {
        "name": "ipython",
        "version": 3
      },
      "file_extension": ".py",
      "mimetype": "text/x-python",
      "name": "python",
      "nbconvert_exporter": "python",
      "pygments_lexer": "ipython3",
      "version": "3.12.4"
    },
    "colab": {
      "provenance": [],
      "include_colab_link": true
    }
  },
  "nbformat": 4,
  "nbformat_minor": 0
}